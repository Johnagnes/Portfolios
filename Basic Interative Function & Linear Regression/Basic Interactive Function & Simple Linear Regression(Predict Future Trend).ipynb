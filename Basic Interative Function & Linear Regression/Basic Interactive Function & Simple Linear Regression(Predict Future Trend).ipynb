{
 "cells": [
  {
   "cell_type": "markdown",
   "id": "088abf3d",
   "metadata": {},
   "source": [
    "# HDB DATA, Exercise"
   ]
  },
  {
   "cell_type": "markdown",
   "id": "a4f39389",
   "metadata": {},
   "source": [
    "## Data Wrangling & Pre-Process(Without Pandas)"
   ]
  },
  {
   "cell_type": "markdown",
   "id": "1597af8f",
   "metadata": {},
   "source": [
    "### Data Source Link :\n",
    "https://data.gov.sg/dataset/resale-flat-prices?resource_id=1b702208-44bf-4829-b620-4615ee19b57c\n",
    "\n",
    "Dataset information, HDB resale price from the period of Jan 2015 to Dec 2016 only"
   ]
  },
  {
   "cell_type": "code",
   "execution_count": 1,
   "id": "604a8c17",
   "metadata": {},
   "outputs": [],
   "source": [
    "with open(\"resale-flat-prices-based-on-registration-date-from-jan-2015-to-dec-2016.csv\", 'r') as data:\n",
    "    data = data.readlines()\n",
    "    raw_data = []\n",
    "    for i in data:\n",
    "        raw_data.append(i)"
   ]
  },
  {
   "cell_type": "code",
   "execution_count": 2,
   "id": "34b394eb",
   "metadata": {},
   "outputs": [
    {
     "name": "stdout",
     "output_type": "stream",
     "text": [
      "['month', 'town', 'flat_type', 'block', 'street_name', 'storey_range', 'floor_area_sqm', 'flat_model', 'lease_commence_date', 'remaining_lease', 'resale_price\\n']\n"
     ]
    }
   ],
   "source": [
    "# Checking the column list\n",
    "heading = raw_data.pop(0).split(',')\n",
    "print(heading)"
   ]
  },
  {
   "cell_type": "code",
   "execution_count": 3,
   "id": "55875f97",
   "metadata": {},
   "outputs": [
    {
     "name": "stdout",
     "output_type": "stream",
     "text": [
      "['month', 'town', 'flat_type', 'block', 'street_name', 'storey_range', 'floor_area_sqm', 'flat_model', 'lease_commence_date', 'remaining_lease', 'resale_price']\n"
     ]
    }
   ],
   "source": [
    "# Replace inappropriate characters for easier manipulation\n",
    "new_head = []\n",
    "for i in heading:\n",
    "    i = i.replace('\\n', '')\n",
    "    \n",
    "    new_head.append(i)\n",
    "print(new_head)"
   ]
  },
  {
   "cell_type": "code",
   "execution_count": 4,
   "id": "9668fb4e",
   "metadata": {},
   "outputs": [
    {
     "name": "stdout",
     "output_type": "stream",
     "text": [
      "month\n",
      "town\n",
      "flat_type\n",
      "block\n",
      "street_name\n",
      "storey_range\n",
      "floor_area_sqm\n",
      "flat_model\n",
      "lease_commence_date\n",
      "remaining_lease\n",
      "resale_price\n"
     ]
    }
   ],
   "source": [
    "# Create empty data with column name in dictionary format\n",
    "data_dict = {}\n",
    "zip_data = zip(new_head, raw_data)\n",
    "for key, value in dict(zip_data).items():\n",
    "    #print(value)\n",
    "    print(key)\n",
    "    data_dict[key] = []"
   ]
  },
  {
   "cell_type": "code",
   "execution_count": 5,
   "id": "bce23cb8",
   "metadata": {},
   "outputs": [
    {
     "name": "stdout",
     "output_type": "stream",
     "text": [
      "{'month': [], 'town': [], 'flat_type': [], 'block': [], 'street_name': [], 'storey_range': [], 'floor_area_sqm': [], 'flat_model': [], 'lease_commence_date': [], 'remaining_lease': [], 'resale_price': []}\n"
     ]
    }
   ],
   "source": [
    "print(data_dict)"
   ]
  },
  {
   "cell_type": "markdown",
   "id": "d986ce4e",
   "metadata": {},
   "source": [
    "##  Append all raw data's value into dictionary format"
   ]
  },
  {
   "cell_type": "code",
   "execution_count": 6,
   "id": "2bd0231a",
   "metadata": {},
   "outputs": [],
   "source": [
    "# Important Note, Do not run this code twice, it will duplicate your orignal values into the same 'data_dict' holder\n",
    "for i in range(0, len(raw_data)):\n",
    "    #print(float(raw_data[i].split(',')[10]))\n",
    "    \n",
    "    data_dict['month'].append(raw_data[i].split(',')[0])\n",
    "    data_dict['town'].append(raw_data[i].split(',')[1])\n",
    "    data_dict['flat_type'].append(raw_data[i].split(',')[2])\n",
    "    data_dict['block'].append(raw_data[i].split(',')[3])\n",
    "    data_dict['street_name'].append(raw_data[i].split(',')[4])\n",
    "    data_dict['storey_range'].append(raw_data[i].split(',')[5])\n",
    "    data_dict['floor_area_sqm'].append(raw_data[i].split(',')[6])\n",
    "    data_dict['flat_model'].append(raw_data[i].split(',')[7])\n",
    "    data_dict['lease_commence_date'].append(raw_data[i].split(',')[8])\n",
    "    data_dict['remaining_lease'].append(raw_data[i].split(',')[9])\n",
    "    data_dict['resale_price'].append(float(raw_data[i].split(',')[10]))"
   ]
  },
  {
   "cell_type": "code",
   "execution_count": 7,
   "id": "43943cdc",
   "metadata": {},
   "outputs": [
    {
     "name": "stdout",
     "output_type": "stream",
     "text": [
      "37153\n",
      "37153\n"
     ]
    }
   ],
   "source": [
    "print(len(data_dict['town']))\n",
    "print(len(data_dict['resale_price'])) \n",
    "# Test the length of value in each key from \"data_dict\", is it match?\n",
    "# if not, something wrong!\n",
    "# Original rows should be 37153 without first row(column names)"
   ]
  },
  {
   "cell_type": "markdown",
   "id": "0f8444b5",
   "metadata": {},
   "source": [
    "## Create \"simple_stat\" function"
   ]
  },
  {
   "cell_type": "code",
   "execution_count": 8,
   "id": "1a0cfb8d",
   "metadata": {},
   "outputs": [],
   "source": [
    "import numpy as np"
   ]
  },
  {
   "cell_type": "code",
   "execution_count": 9,
   "id": "37d63b1e",
   "metadata": {},
   "outputs": [],
   "source": [
    "def simple_stat(price_list):\n",
    "    mode = input(\"Input the mode, \\'m\\' for mean calculation or \\'std\\' for standard deviation : \")\n",
    "    mode_mean_format = ['mean', 'm']\n",
    "    mode_std_format = ['std', 'stdev', 's']\n",
    "    if mode.lower() in mode_mean_format:\n",
    "        \n",
    "        return float(\"{:.2f}\".format(np.mean(price_list)))\n",
    "    \n",
    "    elif mode.lower() in mode_std_format:\n",
    "        \n",
    "        return float(\"{:.2f}\".format(np.std(price_list, ddof = 1)))\n"
   ]
  },
  {
   "cell_type": "code",
   "execution_count": 10,
   "id": "662fe293",
   "metadata": {},
   "outputs": [
    {
     "name": "stdout",
     "output_type": "stream",
     "text": [
      "Input the mode, 'm' for mean calculation or 'std' for standard deviation : m\n"
     ]
    },
    {
     "data": {
      "text/plain": [
       "436862.79"
      ]
     },
     "execution_count": 10,
     "metadata": {},
     "output_type": "execute_result"
    }
   ],
   "source": [
    "# Some backend testing before create the main function\n",
    "simple_stat(data_dict['resale_price'])"
   ]
  },
  {
   "cell_type": "code",
   "execution_count": 11,
   "id": "284f95eb",
   "metadata": {},
   "outputs": [
    {
     "data": {
      "text/plain": [
       "{'ANG MO KIO',\n",
       " 'BEDOK',\n",
       " 'BISHAN',\n",
       " 'BUKIT BATOK',\n",
       " 'BUKIT MERAH',\n",
       " 'BUKIT PANJANG',\n",
       " 'BUKIT TIMAH',\n",
       " 'CENTRAL AREA',\n",
       " 'CHOA CHU KANG',\n",
       " 'CLEMENTI',\n",
       " 'GEYLANG',\n",
       " 'HOUGANG',\n",
       " 'JURONG EAST',\n",
       " 'JURONG WEST',\n",
       " 'KALLANG/WHAMPOA',\n",
       " 'MARINE PARADE',\n",
       " 'PASIR RIS',\n",
       " 'PUNGGOL',\n",
       " 'QUEENSTOWN',\n",
       " 'SEMBAWANG',\n",
       " 'SENGKANG',\n",
       " 'SERANGOON',\n",
       " 'TAMPINES',\n",
       " 'TOA PAYOH',\n",
       " 'WOODLANDS',\n",
       " 'YISHUN'}"
      ]
     },
     "execution_count": 11,
     "metadata": {},
     "output_type": "execute_result"
    }
   ],
   "source": [
    "# Find out the unique value of town name from the dataset\n",
    "set(data_dict['town'])"
   ]
  },
  {
   "cell_type": "code",
   "execution_count": 12,
   "id": "7cc16fd0",
   "metadata": {},
   "outputs": [
    {
     "name": "stdout",
     "output_type": "stream",
     "text": [
      "1851\n"
     ]
    }
   ],
   "source": [
    "# Creating a loop to get all Ang Mo Kio Resale price and apppend it into the empty list holder\n",
    "total_amk_resale_price = []\n",
    "# Find out the total number of Ang Mo Kio rows from the dataset, accuracy testing for the function\n",
    "counter = 0\n",
    "for i in range(0, len(data_dict['town'])):\n",
    "    if data_dict['town'][i] == \"ANG MO KIO\":\n",
    "        counter +=1\n",
    "        total_amk_resale_price.append(data_dict['resale_price'][i])\n",
    "print(counter) \n"
   ]
  },
  {
   "cell_type": "code",
   "execution_count": 13,
   "id": "155af19d",
   "metadata": {},
   "outputs": [
    {
     "name": "stdout",
     "output_type": "stream",
     "text": [
      "Input the mode, 'm' for mean calculation or 'std' for standard deviation : m\n"
     ]
    },
    {
     "data": {
      "text/plain": [
       "408422.98"
      ]
     },
     "execution_count": 13,
     "metadata": {},
     "output_type": "execute_result"
    }
   ],
   "source": [
    "simple_stat(total_amk_resale_price)"
   ]
  },
  {
   "cell_type": "markdown",
   "id": "02ed390f",
   "metadata": {},
   "source": [
    "# Above code were the preparation and concept testing before creating the Interactive Function. Below code is to combine the concepts into a single function with two main objects which allow the user:\n",
    "\n",
    "* Return the mean resale price of the district\n",
    "* Return the Standard Deviation of the specified district's resale price\n",
    "\n",
    "It can enhance further based on the concept of human-centered design with additional parameters. For some examples, allow the user to select the floor level(e.g. high floor), square feet size(e.g. 500 sqft - 800 sqft)."
   ]
  },
  {
   "cell_type": "code",
   "execution_count": 14,
   "id": "19436e20",
   "metadata": {},
   "outputs": [],
   "source": [
    "def district_resaleprice():\n",
    "    \n",
    "    user_input = input(\"Enter a name of the district in Singapore or \\'L/List\\' to show the available districts in SG : \")\n",
    "    list_format = ['l', 'list']\n",
    "    district_data = ['ANG MO KIO',\n",
    "                 'BEDOK',\n",
    "                 'BISHAN',\n",
    "                 'BUKIT BATOK',\n",
    "                 'BUKIT MERAH',\n",
    "                 'BUKIT PANJANG',\n",
    "                 'BUKIT TIMAH',\n",
    "                 'CENTRAL AREA',\n",
    "                 'CHOA CHU KANG',\n",
    "                 'CLEMENTI',\n",
    "                 'GEYLANG',\n",
    "                 'HOUGANG',\n",
    "                 'JURONG EAST',\n",
    "                 'JURONG WEST',\n",
    "                 'KALLANG/WHAMPOA',\n",
    "                 'MARINE PARADE',\n",
    "                 'PASIR RIS',\n",
    "                 'PUNGGOL',\n",
    "                 'QUEENSTOWN',\n",
    "                 'SEMBAWANG',\n",
    "                 'SENGKANG',\n",
    "                 'SERANGOON',\n",
    "                 'TAMPINES',\n",
    "                 'TOA PAYOH',\n",
    "                 'WOODLANDS',\n",
    "                 'YISHUN']\n",
    "    \n",
    "    target_district_pricelist = []\n",
    "    # \"data_dict\" is a global variable\n",
    "    while True:\n",
    "        if user_input.lower() in list_format:\n",
    "            print(district_data)\n",
    "            user_input = input(\"Enter a name of the district in Singapore : \")\n",
    "        \n",
    "        elif user_input.upper() in district_data:\n",
    "            district = user_input.upper()\n",
    "            total_resale_price = []\n",
    "            counter = 0\n",
    "            for i in range(0, len(data_dict['town'])):\n",
    "                if data_dict['town'][i] == district:\n",
    "                    counter +=1\n",
    "                    total_resale_price.append(data_dict['resale_price'][i])\n",
    "                    \n",
    "            print(f\"\\nYour requested district : \\'{district}\\'\")\n",
    "            print(f'The length of the requested district from the data is : {counter}')  \n",
    "            target_district_pricelist.append(total_resale_price)\n",
    "            break\n",
    "            \n",
    "    # Once user key-in the one of the correct name from district data, it will auto call the below function\n",
    "    def simple_stat(target_district_pricelist):\n",
    "        mode = input(\"Input the calculation mode of resale price(The Result is Derived From The Data Period of Jan 2015 - Dec 2016), \\'m\\' for the mean(average) or \\'std\\' for standard deviation  : \")\n",
    "        mode_mean_format = ['mean', 'm']\n",
    "        mode_std_format = ['std', 'stdev', 's']\n",
    "        if mode.lower() in mode_mean_format:\n",
    "\n",
    "            return float(\"{:.2f}\".format(np.mean(target_district_pricelist)))\n",
    "\n",
    "        elif mode.lower() in mode_std_format:\n",
    "\n",
    "            return float(\"{:.2f}\".format(np.std(target_district_pricelist, ddof = 1)))\n",
    "\n",
    "        \n",
    "    \n",
    "    print(f'\\nThe average resale price of requested region \\'{district}\\' is SGD {simple_stat(target_district_pricelist)}. ')\n",
    "    \n",
    "    #return target_district_pricelist\n",
    "            "
   ]
  },
  {
   "cell_type": "code",
   "execution_count": 15,
   "id": "c63f7861",
   "metadata": {},
   "outputs": [
    {
     "name": "stdout",
     "output_type": "stream",
     "text": [
      "Enter a name of the district in Singapore or 'L/List' to show the available districts in SG : Ang Mo Kio\n",
      "\n",
      "Your requested district : 'ANG MO KIO'\n",
      "The length of the requested district from the data is : 1851\n",
      "Input the calculation mode of resale price(The Result is Derived From The Data Period of Jan 2015 - Dec 2016), 'm' for the mean(average) or 'std' for standard deviation  : m\n",
      "\n",
      "The average resale price of requested region 'ANG MO KIO' is SGD 408422.98. \n"
     ]
    }
   ],
   "source": [
    "district_resaleprice()"
   ]
  },
  {
   "cell_type": "markdown",
   "id": "24dbc1e8",
   "metadata": {},
   "source": [
    "## Build A Simple Linear Regression"
   ]
  },
  {
   "cell_type": "code",
   "execution_count": 16,
   "id": "443d4681",
   "metadata": {},
   "outputs": [],
   "source": [
    "from sklearn.linear_model import LinearRegression\n",
    "from sklearn.model_selection import train_test_split\n",
    "import pandas as pd\n",
    "import matplotlib.pyplot as plt\n",
    "import seaborn as sns\n",
    "\n",
    "sns.set_style('darkgrid')\n",
    "sns.set_palette('mako_r')"
   ]
  },
  {
   "cell_type": "code",
   "execution_count": 17,
   "id": "73ba92cb",
   "metadata": {
    "scrolled": false
   },
   "outputs": [
    {
     "data": {
      "text/html": [
       "<div>\n",
       "<style scoped>\n",
       "    .dataframe tbody tr th:only-of-type {\n",
       "        vertical-align: middle;\n",
       "    }\n",
       "\n",
       "    .dataframe tbody tr th {\n",
       "        vertical-align: top;\n",
       "    }\n",
       "\n",
       "    .dataframe thead th {\n",
       "        text-align: right;\n",
       "    }\n",
       "</style>\n",
       "<table border=\"1\" class=\"dataframe\">\n",
       "  <thead>\n",
       "    <tr style=\"text-align: right;\">\n",
       "      <th></th>\n",
       "      <th>month</th>\n",
       "      <th>town</th>\n",
       "      <th>flat_type</th>\n",
       "      <th>block</th>\n",
       "      <th>street_name</th>\n",
       "      <th>storey_range</th>\n",
       "      <th>floor_area_sqm</th>\n",
       "      <th>flat_model</th>\n",
       "      <th>lease_commence_date</th>\n",
       "      <th>remaining_lease</th>\n",
       "      <th>resale_price</th>\n",
       "    </tr>\n",
       "  </thead>\n",
       "  <tbody>\n",
       "    <tr>\n",
       "      <th>0</th>\n",
       "      <td>2015-01</td>\n",
       "      <td>ANG MO KIO</td>\n",
       "      <td>3 ROOM</td>\n",
       "      <td>174</td>\n",
       "      <td>ANG MO KIO AVE 4</td>\n",
       "      <td>07 TO 09</td>\n",
       "      <td>60</td>\n",
       "      <td>Improved</td>\n",
       "      <td>1986</td>\n",
       "      <td>70</td>\n",
       "      <td>255000.0</td>\n",
       "    </tr>\n",
       "    <tr>\n",
       "      <th>1</th>\n",
       "      <td>2015-01</td>\n",
       "      <td>ANG MO KIO</td>\n",
       "      <td>3 ROOM</td>\n",
       "      <td>541</td>\n",
       "      <td>ANG MO KIO AVE 10</td>\n",
       "      <td>01 TO 03</td>\n",
       "      <td>68</td>\n",
       "      <td>New Generation</td>\n",
       "      <td>1981</td>\n",
       "      <td>65</td>\n",
       "      <td>275000.0</td>\n",
       "    </tr>\n",
       "    <tr>\n",
       "      <th>2</th>\n",
       "      <td>2015-01</td>\n",
       "      <td>ANG MO KIO</td>\n",
       "      <td>3 ROOM</td>\n",
       "      <td>163</td>\n",
       "      <td>ANG MO KIO AVE 4</td>\n",
       "      <td>01 TO 03</td>\n",
       "      <td>69</td>\n",
       "      <td>New Generation</td>\n",
       "      <td>1980</td>\n",
       "      <td>64</td>\n",
       "      <td>285000.0</td>\n",
       "    </tr>\n",
       "    <tr>\n",
       "      <th>3</th>\n",
       "      <td>2015-01</td>\n",
       "      <td>ANG MO KIO</td>\n",
       "      <td>3 ROOM</td>\n",
       "      <td>446</td>\n",
       "      <td>ANG MO KIO AVE 10</td>\n",
       "      <td>01 TO 03</td>\n",
       "      <td>68</td>\n",
       "      <td>New Generation</td>\n",
       "      <td>1979</td>\n",
       "      <td>63</td>\n",
       "      <td>290000.0</td>\n",
       "    </tr>\n",
       "    <tr>\n",
       "      <th>4</th>\n",
       "      <td>2015-01</td>\n",
       "      <td>ANG MO KIO</td>\n",
       "      <td>3 ROOM</td>\n",
       "      <td>557</td>\n",
       "      <td>ANG MO KIO AVE 10</td>\n",
       "      <td>07 TO 09</td>\n",
       "      <td>68</td>\n",
       "      <td>New Generation</td>\n",
       "      <td>1980</td>\n",
       "      <td>64</td>\n",
       "      <td>290000.0</td>\n",
       "    </tr>\n",
       "  </tbody>\n",
       "</table>\n",
       "</div>"
      ],
      "text/plain": [
       "     month        town flat_type block        street_name storey_range  \\\n",
       "0  2015-01  ANG MO KIO    3 ROOM   174   ANG MO KIO AVE 4     07 TO 09   \n",
       "1  2015-01  ANG MO KIO    3 ROOM   541  ANG MO KIO AVE 10     01 TO 03   \n",
       "2  2015-01  ANG MO KIO    3 ROOM   163   ANG MO KIO AVE 4     01 TO 03   \n",
       "3  2015-01  ANG MO KIO    3 ROOM   446  ANG MO KIO AVE 10     01 TO 03   \n",
       "4  2015-01  ANG MO KIO    3 ROOM   557  ANG MO KIO AVE 10     07 TO 09   \n",
       "\n",
       "  floor_area_sqm      flat_model lease_commence_date remaining_lease  \\\n",
       "0             60        Improved                1986              70   \n",
       "1             68  New Generation                1981              65   \n",
       "2             69  New Generation                1980              64   \n",
       "3             68  New Generation                1979              63   \n",
       "4             68  New Generation                1980              64   \n",
       "\n",
       "   resale_price  \n",
       "0      255000.0  \n",
       "1      275000.0  \n",
       "2      285000.0  \n",
       "3      290000.0  \n",
       "4      290000.0  "
      ]
     },
     "execution_count": 17,
     "metadata": {},
     "output_type": "execute_result"
    }
   ],
   "source": [
    "df = pd.DataFrame(data_dict)\n",
    "df.head()"
   ]
  },
  {
   "cell_type": "code",
   "execution_count": 18,
   "id": "236d829e",
   "metadata": {},
   "outputs": [
    {
     "name": "stdout",
     "output_type": "stream",
     "text": [
      "<class 'pandas.core.frame.DataFrame'>\n",
      "RangeIndex: 37153 entries, 0 to 37152\n",
      "Data columns (total 11 columns):\n",
      " #   Column               Non-Null Count  Dtype  \n",
      "---  ------               --------------  -----  \n",
      " 0   month                37153 non-null  object \n",
      " 1   town                 37153 non-null  object \n",
      " 2   flat_type            37153 non-null  object \n",
      " 3   block                37153 non-null  object \n",
      " 4   street_name          37153 non-null  object \n",
      " 5   storey_range         37153 non-null  object \n",
      " 6   floor_area_sqm       37153 non-null  object \n",
      " 7   flat_model           37153 non-null  object \n",
      " 8   lease_commence_date  37153 non-null  object \n",
      " 9   remaining_lease      37153 non-null  object \n",
      " 10  resale_price         37153 non-null  float64\n",
      "dtypes: float64(1), object(10)\n",
      "memory usage: 3.1+ MB\n"
     ]
    }
   ],
   "source": [
    "df.info()"
   ]
  },
  {
   "cell_type": "code",
   "execution_count": 19,
   "id": "1465c593",
   "metadata": {},
   "outputs": [
    {
     "data": {
      "text/plain": [
       "<AxesSubplot:xlabel='lease_commence_date'>"
      ]
     },
     "execution_count": 19,
     "metadata": {},
     "output_type": "execute_result"
    },
    {
     "data": {
      "image/png": "[encoded data removed]",
      "text/plain": [
       "<Figure size 432x288 with 1 Axes>"
      ]
     },
     "metadata": {},
     "output_type": "display_data"
    }
   ],
   "source": [
    "df[df.flat_type =='3 ROOM'].groupby('lease_commence_date')['resale_price'].mean().plot()"
   ]
  },
  {
   "cell_type": "code",
   "execution_count": 20,
   "id": "17c33705",
   "metadata": {},
   "outputs": [],
   "source": [
    "df_mean = df[df.flat_type =='3 ROOM'].groupby('lease_commence_date')[['resale_price']].mean().reset_index()"
   ]
  },
  {
   "cell_type": "code",
   "execution_count": 21,
   "id": "bb11bb25",
   "metadata": {},
   "outputs": [],
   "source": [
    "#Conver\n",
    "# for i in df_mean.columns:\n",
    "#     df_mean[i] = df_mean[i].astype('int64')\n",
    "df_mean['lease_commence_date']=df_mean['lease_commence_date'].astype('int64')"
   ]
  },
  {
   "cell_type": "code",
   "execution_count": 22,
   "id": "09a30c6a",
   "metadata": {},
   "outputs": [
    {
     "name": "stdout",
     "output_type": "stream",
     "text": [
      "<class 'pandas.core.frame.DataFrame'>\n",
      "RangeIndex: 43 entries, 0 to 42\n",
      "Data columns (total 2 columns):\n",
      " #   Column               Non-Null Count  Dtype  \n",
      "---  ------               --------------  -----  \n",
      " 0   lease_commence_date  43 non-null     int64  \n",
      " 1   resale_price         43 non-null     float64\n",
      "dtypes: float64(1), int64(1)\n",
      "memory usage: 816.0 bytes\n"
     ]
    }
   ],
   "source": [
    "df_mean.info()"
   ]
  },
  {
   "cell_type": "code",
   "execution_count": 23,
   "id": "d997ef88",
   "metadata": {},
   "outputs": [],
   "source": [
    "x = np.array(df_mean.lease_commence_date).reshape(-1,1)\n",
    "y = np.array(df_mean.resale_price).reshape(-1,1)"
   ]
  },
  {
   "cell_type": "code",
   "execution_count": 24,
   "id": "8d39cd8e",
   "metadata": {},
   "outputs": [],
   "source": [
    "model = LinearRegression()\n",
    "model.fit(x,y)\n",
    "y_predict = model.predict(x)"
   ]
  },
  {
   "cell_type": "code",
   "execution_count": 25,
   "id": "769fa990",
   "metadata": {},
   "outputs": [],
   "source": [
    "# Prediction of next 20 years, from 2014 - 2034\n",
    "x_future = np.array(range(2014,2035)).reshape(-1,1)\n",
    "y_future_predict = model.predict(x_future)"
   ]
  },
  {
   "cell_type": "code",
   "execution_count": 26,
   "id": "b68a5c46",
   "metadata": {},
   "outputs": [
    {
     "data": {
      "image/png": "[encoded data removed]",
      "text/plain": [
       "<Figure size 720x720 with 1 Axes>"
      ]
     },
     "metadata": {},
     "output_type": "display_data"
    }
   ],
   "source": [
    "plt.figure(figsize = (10,10))\n",
    "plt.plot(x, y, marker = 'o', label = 'Overall Resale Price of Year(Dataset)')\n",
    "plt.plot(x, y_predict, label = 'Trend Of Resale Price(Dataset)')\n",
    "plt.plot(x_future, y_future_predict, label = 'Prediction Trend For Next 30 Years', color = 'r')\n",
    "plt.legend(loc = 'upper left')\n",
    "plt.xlabel('Year(Transacted Property Lease Commence Date)', fontsize = 13)\n",
    "plt.ylabel('Resale Price(Average Price Of The Year)', fontsize = 13)\n",
    "plt.title('The Trend of HDB Resale Price(Transaction Period From Jan 2015 - Dec 2016)', fontsize = 15)\n",
    "plt.xticks(rotation = 90);"
   ]
  },
  {
   "cell_type": "markdown",
   "id": "c05e34af",
   "metadata": {},
   "source": [
    "# <mark> Summarize & Limitation: \n",
    "\n",
    "This is just a simple linear prediction model to visualize the trend of average resale price based on the transacted property's lease commence date from the dataset where all transactions happened only between Jan 2015 and Dec 2016.\n",
    "\n",
    "There are limitations. The prediction is generated without taking into the consideration of transacted property's sqft, district popularity, floor level which potentially affects the final resale price. "
   ]
  },
  {
   "cell_type": "code",
   "execution_count": null,
   "id": "04103a7c",
   "metadata": {},
   "outputs": [],
   "source": []
  }
 ],
 "metadata": {
  "kernelspec": {
   "display_name": "Python 3",
   "language": "python",
   "name": "python3"
  },
  "language_info": {
   "codemirror_mode": {
    "name": "ipython",
    "version": 3
   },
   "file_extension": ".py",
   "mimetype": "text/x-python",
   "name": "python",
   "nbconvert_exporter": "python",
   "pygments_lexer": "ipython3",
   "version": "3.8.8"
  }
 },
 "nbformat": 4,
 "nbformat_minor": 5
}
