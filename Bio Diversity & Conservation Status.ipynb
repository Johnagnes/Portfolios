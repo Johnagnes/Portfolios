{
 "cells": [
  {
   "cell_type": "code",
   "execution_count": 1,
   "metadata": {},
   "outputs": [],
   "source": [
    "import pandas as pd\n",
    "import numpy as np\n",
    "import matplotlib.pyplot as plt\n",
    "import seaborn as sns\n",
    "from sklearn.preprocessing import StandardScaler, MinMaxScaler\n",
    "from scipy.stats import shapiro, mannwhitneyu, ttest_ind, f_oneway\n",
    "from statsmodels.stats.multicomp import pairwise_tukeyhsd\n",
    "\n",
    "import warnings\n",
    "warnings.filterwarnings('ignore')"
   ]
  },
  {
   "cell_type": "markdown",
   "metadata": {},
   "source": [
    "# Introduction of the two dataset:\n",
    "\n",
    "- observations.csv - holds recorded sightings of different species at several national parks for the past 7 days.\n",
    "- species_info.csv - contains data about different species and their conservation status"
   ]
  },
  {
   "cell_type": "markdown",
   "metadata": {},
   "source": [
    "# Examine the data/EDA(Data Cleaning, Preprocossing, Reformat, and Combine)"
   ]
  },
  {
   "cell_type": "code",
   "execution_count": 2,
   "metadata": {},
   "outputs": [],
   "source": [
    "df_obs = pd.read_csv('observations.csv')\n",
    "df_spec = pd.read_csv('species_info.csv')"
   ]
  },
  {
   "cell_type": "code",
   "execution_count": 3,
   "metadata": {},
   "outputs": [
    {
     "data": {
      "text/html": [
       "<div>\n",
       "<style scoped>\n",
       "    .dataframe tbody tr th:only-of-type {\n",
       "        vertical-align: middle;\n",
       "    }\n",
       "\n",
       "    .dataframe tbody tr th {\n",
       "        vertical-align: top;\n",
       "    }\n",
       "\n",
       "    .dataframe thead th {\n",
       "        text-align: right;\n",
       "    }\n",
       "</style>\n",
       "<table border=\"1\" class=\"dataframe\">\n",
       "  <thead>\n",
       "    <tr style=\"text-align: right;\">\n",
       "      <th></th>\n",
       "      <th>scientific_name</th>\n",
       "      <th>park_name</th>\n",
       "      <th>observations</th>\n",
       "    </tr>\n",
       "  </thead>\n",
       "  <tbody>\n",
       "    <tr>\n",
       "      <th>0</th>\n",
       "      <td>Vicia benghalensis</td>\n",
       "      <td>Great Smoky Mountains National Park</td>\n",
       "      <td>68</td>\n",
       "    </tr>\n",
       "    <tr>\n",
       "      <th>1</th>\n",
       "      <td>Neovison vison</td>\n",
       "      <td>Great Smoky Mountains National Park</td>\n",
       "      <td>77</td>\n",
       "    </tr>\n",
       "    <tr>\n",
       "      <th>2</th>\n",
       "      <td>Prunus subcordata</td>\n",
       "      <td>Yosemite National Park</td>\n",
       "      <td>138</td>\n",
       "    </tr>\n",
       "    <tr>\n",
       "      <th>3</th>\n",
       "      <td>Abutilon theophrasti</td>\n",
       "      <td>Bryce National Park</td>\n",
       "      <td>84</td>\n",
       "    </tr>\n",
       "    <tr>\n",
       "      <th>4</th>\n",
       "      <td>Githopsis specularioides</td>\n",
       "      <td>Great Smoky Mountains National Park</td>\n",
       "      <td>85</td>\n",
       "    </tr>\n",
       "    <tr>\n",
       "      <th>...</th>\n",
       "      <td>...</td>\n",
       "      <td>...</td>\n",
       "      <td>...</td>\n",
       "    </tr>\n",
       "    <tr>\n",
       "      <th>23291</th>\n",
       "      <td>Croton monanthogynus</td>\n",
       "      <td>Yosemite National Park</td>\n",
       "      <td>173</td>\n",
       "    </tr>\n",
       "    <tr>\n",
       "      <th>23292</th>\n",
       "      <td>Otospermophilus beecheyi</td>\n",
       "      <td>Bryce National Park</td>\n",
       "      <td>130</td>\n",
       "    </tr>\n",
       "    <tr>\n",
       "      <th>23293</th>\n",
       "      <td>Heterotheca sessiliflora ssp. echioides</td>\n",
       "      <td>Bryce National Park</td>\n",
       "      <td>140</td>\n",
       "    </tr>\n",
       "    <tr>\n",
       "      <th>23294</th>\n",
       "      <td>Dicranella rufescens</td>\n",
       "      <td>Yosemite National Park</td>\n",
       "      <td>171</td>\n",
       "    </tr>\n",
       "    <tr>\n",
       "      <th>23295</th>\n",
       "      <td>Cucurbita pepo</td>\n",
       "      <td>Yosemite National Park</td>\n",
       "      <td>164</td>\n",
       "    </tr>\n",
       "  </tbody>\n",
       "</table>\n",
       "<p>23296 rows × 3 columns</p>\n",
       "</div>"
      ],
      "text/plain": [
       "                               scientific_name  \\\n",
       "0                           Vicia benghalensis   \n",
       "1                               Neovison vison   \n",
       "2                            Prunus subcordata   \n",
       "3                         Abutilon theophrasti   \n",
       "4                     Githopsis specularioides   \n",
       "...                                        ...   \n",
       "23291                     Croton monanthogynus   \n",
       "23292                 Otospermophilus beecheyi   \n",
       "23293  Heterotheca sessiliflora ssp. echioides   \n",
       "23294                     Dicranella rufescens   \n",
       "23295                           Cucurbita pepo   \n",
       "\n",
       "                                 park_name  observations  \n",
       "0      Great Smoky Mountains National Park            68  \n",
       "1      Great Smoky Mountains National Park            77  \n",
       "2                   Yosemite National Park           138  \n",
       "3                      Bryce National Park            84  \n",
       "4      Great Smoky Mountains National Park            85  \n",
       "...                                    ...           ...  \n",
       "23291               Yosemite National Park           173  \n",
       "23292                  Bryce National Park           130  \n",
       "23293                  Bryce National Park           140  \n",
       "23294               Yosemite National Park           171  \n",
       "23295               Yosemite National Park           164  \n",
       "\n",
       "[23296 rows x 3 columns]"
      ]
     },
     "execution_count": 3,
     "metadata": {},
     "output_type": "execute_result"
    }
   ],
   "source": [
    "df_obs"
   ]
  },
  {
   "cell_type": "code",
   "execution_count": 4,
   "metadata": {},
   "outputs": [
    {
     "data": {
      "text/plain": [
       "scientific_name    False\n",
       "park_name          False\n",
       "observations       False\n",
       "dtype: bool"
      ]
     },
     "execution_count": 4,
     "metadata": {},
     "output_type": "execute_result"
    }
   ],
   "source": [
    "df_obs.isna().any()"
   ]
  },
  {
   "cell_type": "code",
   "execution_count": 5,
   "metadata": {},
   "outputs": [
    {
     "name": "stdout",
     "output_type": "stream",
     "text": [
      "<class 'pandas.core.frame.DataFrame'>\n",
      "RangeIndex: 23296 entries, 0 to 23295\n",
      "Data columns (total 3 columns):\n",
      " #   Column           Non-Null Count  Dtype \n",
      "---  ------           --------------  ----- \n",
      " 0   scientific_name  23296 non-null  object\n",
      " 1   park_name        23296 non-null  object\n",
      " 2   observations     23296 non-null  int64 \n",
      "dtypes: int64(1), object(2)\n",
      "memory usage: 546.1+ KB\n"
     ]
    }
   ],
   "source": [
    "df_obs.info()"
   ]
  },
  {
   "cell_type": "code",
   "execution_count": 6,
   "metadata": {
    "scrolled": true
   },
   "outputs": [
    {
     "data": {
      "text/html": [
       "<div>\n",
       "<style scoped>\n",
       "    .dataframe tbody tr th:only-of-type {\n",
       "        vertical-align: middle;\n",
       "    }\n",
       "\n",
       "    .dataframe tbody tr th {\n",
       "        vertical-align: top;\n",
       "    }\n",
       "\n",
       "    .dataframe thead th {\n",
       "        text-align: right;\n",
       "    }\n",
       "</style>\n",
       "<table border=\"1\" class=\"dataframe\">\n",
       "  <thead>\n",
       "    <tr style=\"text-align: right;\">\n",
       "      <th></th>\n",
       "      <th>scientific_name</th>\n",
       "      <th>park_name</th>\n",
       "      <th>observations</th>\n",
       "    </tr>\n",
       "  </thead>\n",
       "  <tbody>\n",
       "    <tr>\n",
       "      <th>count</th>\n",
       "      <td>23296</td>\n",
       "      <td>23296</td>\n",
       "      <td>23296.000000</td>\n",
       "    </tr>\n",
       "    <tr>\n",
       "      <th>unique</th>\n",
       "      <td>5541</td>\n",
       "      <td>4</td>\n",
       "      <td>NaN</td>\n",
       "    </tr>\n",
       "    <tr>\n",
       "      <th>top</th>\n",
       "      <td>Holcus lanatus</td>\n",
       "      <td>Bryce National Park</td>\n",
       "      <td>NaN</td>\n",
       "    </tr>\n",
       "    <tr>\n",
       "      <th>freq</th>\n",
       "      <td>12</td>\n",
       "      <td>5824</td>\n",
       "      <td>NaN</td>\n",
       "    </tr>\n",
       "    <tr>\n",
       "      <th>mean</th>\n",
       "      <td>NaN</td>\n",
       "      <td>NaN</td>\n",
       "      <td>142.287904</td>\n",
       "    </tr>\n",
       "    <tr>\n",
       "      <th>std</th>\n",
       "      <td>NaN</td>\n",
       "      <td>NaN</td>\n",
       "      <td>69.890532</td>\n",
       "    </tr>\n",
       "    <tr>\n",
       "      <th>min</th>\n",
       "      <td>NaN</td>\n",
       "      <td>NaN</td>\n",
       "      <td>9.000000</td>\n",
       "    </tr>\n",
       "    <tr>\n",
       "      <th>25%</th>\n",
       "      <td>NaN</td>\n",
       "      <td>NaN</td>\n",
       "      <td>86.000000</td>\n",
       "    </tr>\n",
       "    <tr>\n",
       "      <th>50%</th>\n",
       "      <td>NaN</td>\n",
       "      <td>NaN</td>\n",
       "      <td>124.000000</td>\n",
       "    </tr>\n",
       "    <tr>\n",
       "      <th>75%</th>\n",
       "      <td>NaN</td>\n",
       "      <td>NaN</td>\n",
       "      <td>195.000000</td>\n",
       "    </tr>\n",
       "    <tr>\n",
       "      <th>max</th>\n",
       "      <td>NaN</td>\n",
       "      <td>NaN</td>\n",
       "      <td>321.000000</td>\n",
       "    </tr>\n",
       "  </tbody>\n",
       "</table>\n",
       "</div>"
      ],
      "text/plain": [
       "       scientific_name            park_name  observations\n",
       "count            23296                23296  23296.000000\n",
       "unique            5541                    4           NaN\n",
       "top     Holcus lanatus  Bryce National Park           NaN\n",
       "freq                12                 5824           NaN\n",
       "mean               NaN                  NaN    142.287904\n",
       "std                NaN                  NaN     69.890532\n",
       "min                NaN                  NaN      9.000000\n",
       "25%                NaN                  NaN     86.000000\n",
       "50%                NaN                  NaN    124.000000\n",
       "75%                NaN                  NaN    195.000000\n",
       "max                NaN                  NaN    321.000000"
      ]
     },
     "execution_count": 6,
     "metadata": {},
     "output_type": "execute_result"
    }
   ],
   "source": [
    "df_obs.describe(include = 'all')"
   ]
  },
  {
   "cell_type": "markdown",
   "metadata": {},
   "source": [
    "##### df_obs's pre-check result:  By first glance, df_obs, seem to like cleaned data, and observed no abnormal "
   ]
  },
  {
   "cell_type": "code",
   "execution_count": 7,
   "metadata": {},
   "outputs": [
    {
     "data": {
      "text/html": [
       "<div>\n",
       "<style scoped>\n",
       "    .dataframe tbody tr th:only-of-type {\n",
       "        vertical-align: middle;\n",
       "    }\n",
       "\n",
       "    .dataframe tbody tr th {\n",
       "        vertical-align: top;\n",
       "    }\n",
       "\n",
       "    .dataframe thead th {\n",
       "        text-align: right;\n",
       "    }\n",
       "</style>\n",
       "<table border=\"1\" class=\"dataframe\">\n",
       "  <thead>\n",
       "    <tr style=\"text-align: right;\">\n",
       "      <th></th>\n",
       "      <th>category</th>\n",
       "      <th>scientific_name</th>\n",
       "      <th>common_names</th>\n",
       "      <th>conservation_status</th>\n",
       "    </tr>\n",
       "  </thead>\n",
       "  <tbody>\n",
       "    <tr>\n",
       "      <th>0</th>\n",
       "      <td>Mammal</td>\n",
       "      <td>Clethrionomys gapperi gapperi</td>\n",
       "      <td>Gapper's Red-Backed Vole</td>\n",
       "      <td>NaN</td>\n",
       "    </tr>\n",
       "    <tr>\n",
       "      <th>1</th>\n",
       "      <td>Mammal</td>\n",
       "      <td>Bos bison</td>\n",
       "      <td>American Bison, Bison</td>\n",
       "      <td>NaN</td>\n",
       "    </tr>\n",
       "    <tr>\n",
       "      <th>2</th>\n",
       "      <td>Mammal</td>\n",
       "      <td>Bos taurus</td>\n",
       "      <td>Aurochs, Aurochs, Domestic Cattle (Feral), Dom...</td>\n",
       "      <td>NaN</td>\n",
       "    </tr>\n",
       "    <tr>\n",
       "      <th>3</th>\n",
       "      <td>Mammal</td>\n",
       "      <td>Ovis aries</td>\n",
       "      <td>Domestic Sheep, Mouflon, Red Sheep, Sheep (Feral)</td>\n",
       "      <td>NaN</td>\n",
       "    </tr>\n",
       "    <tr>\n",
       "      <th>4</th>\n",
       "      <td>Mammal</td>\n",
       "      <td>Cervus elaphus</td>\n",
       "      <td>Wapiti Or Elk</td>\n",
       "      <td>NaN</td>\n",
       "    </tr>\n",
       "  </tbody>\n",
       "</table>\n",
       "</div>"
      ],
      "text/plain": [
       "  category                scientific_name  \\\n",
       "0   Mammal  Clethrionomys gapperi gapperi   \n",
       "1   Mammal                      Bos bison   \n",
       "2   Mammal                     Bos taurus   \n",
       "3   Mammal                     Ovis aries   \n",
       "4   Mammal                 Cervus elaphus   \n",
       "\n",
       "                                        common_names conservation_status  \n",
       "0                           Gapper's Red-Backed Vole                 NaN  \n",
       "1                              American Bison, Bison                 NaN  \n",
       "2  Aurochs, Aurochs, Domestic Cattle (Feral), Dom...                 NaN  \n",
       "3  Domestic Sheep, Mouflon, Red Sheep, Sheep (Feral)                 NaN  \n",
       "4                                      Wapiti Or Elk                 NaN  "
      ]
     },
     "execution_count": 7,
     "metadata": {},
     "output_type": "execute_result"
    }
   ],
   "source": [
    "df_spec.head()"
   ]
  },
  {
   "cell_type": "code",
   "execution_count": 8,
   "metadata": {},
   "outputs": [
    {
     "data": {
      "text/plain": [
       "category                  0\n",
       "scientific_name           0\n",
       "common_names              0\n",
       "conservation_status    5633\n",
       "dtype: int64"
      ]
     },
     "execution_count": 8,
     "metadata": {},
     "output_type": "execute_result"
    }
   ],
   "source": [
    "df_spec.isna().sum()"
   ]
  },
  {
   "cell_type": "code",
   "execution_count": 9,
   "metadata": {},
   "outputs": [
    {
     "name": "stdout",
     "output_type": "stream",
     "text": [
      "<class 'pandas.core.frame.DataFrame'>\n",
      "RangeIndex: 5824 entries, 0 to 5823\n",
      "Data columns (total 4 columns):\n",
      " #   Column               Non-Null Count  Dtype \n",
      "---  ------               --------------  ----- \n",
      " 0   category             5824 non-null   object\n",
      " 1   scientific_name      5824 non-null   object\n",
      " 2   common_names         5824 non-null   object\n",
      " 3   conservation_status  191 non-null    object\n",
      "dtypes: object(4)\n",
      "memory usage: 182.1+ KB\n"
     ]
    }
   ],
   "source": [
    "df_spec.info()"
   ]
  },
  {
   "cell_type": "code",
   "execution_count": 10,
   "metadata": {},
   "outputs": [
    {
     "data": {
      "text/html": [
       "<div>\n",
       "<style scoped>\n",
       "    .dataframe tbody tr th:only-of-type {\n",
       "        vertical-align: middle;\n",
       "    }\n",
       "\n",
       "    .dataframe tbody tr th {\n",
       "        vertical-align: top;\n",
       "    }\n",
       "\n",
       "    .dataframe thead th {\n",
       "        text-align: right;\n",
       "    }\n",
       "</style>\n",
       "<table border=\"1\" class=\"dataframe\">\n",
       "  <thead>\n",
       "    <tr style=\"text-align: right;\">\n",
       "      <th></th>\n",
       "      <th>category</th>\n",
       "      <th>scientific_name</th>\n",
       "      <th>common_names</th>\n",
       "      <th>conservation_status</th>\n",
       "    </tr>\n",
       "  </thead>\n",
       "  <tbody>\n",
       "    <tr>\n",
       "      <th>count</th>\n",
       "      <td>5824</td>\n",
       "      <td>5824</td>\n",
       "      <td>5824</td>\n",
       "      <td>191</td>\n",
       "    </tr>\n",
       "    <tr>\n",
       "      <th>unique</th>\n",
       "      <td>7</td>\n",
       "      <td>5541</td>\n",
       "      <td>5504</td>\n",
       "      <td>4</td>\n",
       "    </tr>\n",
       "    <tr>\n",
       "      <th>top</th>\n",
       "      <td>Vascular Plant</td>\n",
       "      <td>Holcus lanatus</td>\n",
       "      <td>Dicranum Moss</td>\n",
       "      <td>Species of Concern</td>\n",
       "    </tr>\n",
       "    <tr>\n",
       "      <th>freq</th>\n",
       "      <td>4470</td>\n",
       "      <td>3</td>\n",
       "      <td>7</td>\n",
       "      <td>161</td>\n",
       "    </tr>\n",
       "  </tbody>\n",
       "</table>\n",
       "</div>"
      ],
      "text/plain": [
       "              category scientific_name   common_names conservation_status\n",
       "count             5824            5824           5824                 191\n",
       "unique               7            5541           5504                   4\n",
       "top     Vascular Plant  Holcus lanatus  Dicranum Moss  Species of Concern\n",
       "freq              4470               3              7                 161"
      ]
     },
     "execution_count": 10,
     "metadata": {},
     "output_type": "execute_result"
    }
   ],
   "source": [
    "df_spec.describe(include = 'all')"
   ]
  },
  {
   "cell_type": "code",
   "execution_count": 11,
   "metadata": {},
   "outputs": [
    {
     "data": {
      "text/plain": [
       "array(['Unknown', 'Species of Concern', 'Endangered', 'Threatened',\n",
       "       'In Recovery'], dtype=object)"
      ]
     },
     "execution_count": 11,
     "metadata": {},
     "output_type": "execute_result"
    }
   ],
   "source": [
    "# Replacing the nan to 'unknown'\n",
    "df_spec['conservation_status'].replace(np.nan, 'Unknown', inplace = True)\n",
    "df_spec['conservation_status'].unique()"
   ]
  },
  {
   "cell_type": "code",
   "execution_count": 12,
   "metadata": {},
   "outputs": [
    {
     "data": {
      "text/plain": [
       "category               0\n",
       "scientific_name        0\n",
       "common_names           0\n",
       "conservation_status    0\n",
       "dtype: int64"
      ]
     },
     "execution_count": 12,
     "metadata": {},
     "output_type": "execute_result"
    }
   ],
   "source": [
    "df_spec.isna().sum()"
   ]
  },
  {
   "cell_type": "code",
   "execution_count": 13,
   "metadata": {},
   "outputs": [
    {
     "data": {
      "text/html": [
       "<div>\n",
       "<style scoped>\n",
       "    .dataframe tbody tr th:only-of-type {\n",
       "        vertical-align: middle;\n",
       "    }\n",
       "\n",
       "    .dataframe tbody tr th {\n",
       "        vertical-align: top;\n",
       "    }\n",
       "\n",
       "    .dataframe thead th {\n",
       "        text-align: right;\n",
       "    }\n",
       "</style>\n",
       "<table border=\"1\" class=\"dataframe\">\n",
       "  <thead>\n",
       "    <tr style=\"text-align: right;\">\n",
       "      <th></th>\n",
       "      <th>category</th>\n",
       "      <th>scientific_name</th>\n",
       "      <th>common_names</th>\n",
       "      <th>conservation_status</th>\n",
       "    </tr>\n",
       "  </thead>\n",
       "  <tbody>\n",
       "    <tr>\n",
       "      <th>0</th>\n",
       "      <td>Mammal</td>\n",
       "      <td>Clethrionomys gapperi gapperi</td>\n",
       "      <td>Gapper's Red-Backed Vole</td>\n",
       "      <td>Unknown</td>\n",
       "    </tr>\n",
       "    <tr>\n",
       "      <th>1</th>\n",
       "      <td>Mammal</td>\n",
       "      <td>Bos bison</td>\n",
       "      <td>American Bison, Bison</td>\n",
       "      <td>Unknown</td>\n",
       "    </tr>\n",
       "    <tr>\n",
       "      <th>2</th>\n",
       "      <td>Mammal</td>\n",
       "      <td>Bos taurus</td>\n",
       "      <td>Aurochs, Aurochs, Domestic Cattle (Feral), Dom...</td>\n",
       "      <td>Unknown</td>\n",
       "    </tr>\n",
       "    <tr>\n",
       "      <th>3</th>\n",
       "      <td>Mammal</td>\n",
       "      <td>Ovis aries</td>\n",
       "      <td>Domestic Sheep, Mouflon, Red Sheep, Sheep (Feral)</td>\n",
       "      <td>Unknown</td>\n",
       "    </tr>\n",
       "    <tr>\n",
       "      <th>4</th>\n",
       "      <td>Mammal</td>\n",
       "      <td>Cervus elaphus</td>\n",
       "      <td>Wapiti Or Elk</td>\n",
       "      <td>Unknown</td>\n",
       "    </tr>\n",
       "    <tr>\n",
       "      <th>...</th>\n",
       "      <td>...</td>\n",
       "      <td>...</td>\n",
       "      <td>...</td>\n",
       "      <td>...</td>\n",
       "    </tr>\n",
       "    <tr>\n",
       "      <th>5819</th>\n",
       "      <td>Vascular Plant</td>\n",
       "      <td>Solanum parishii</td>\n",
       "      <td>Parish's Nightshade</td>\n",
       "      <td>Unknown</td>\n",
       "    </tr>\n",
       "    <tr>\n",
       "      <th>5820</th>\n",
       "      <td>Vascular Plant</td>\n",
       "      <td>Solanum xanti</td>\n",
       "      <td>Chaparral Nightshade, Purple Nightshade</td>\n",
       "      <td>Unknown</td>\n",
       "    </tr>\n",
       "    <tr>\n",
       "      <th>5821</th>\n",
       "      <td>Vascular Plant</td>\n",
       "      <td>Parthenocissus vitacea</td>\n",
       "      <td>Thicket Creeper, Virginia Creeper, Woodbine</td>\n",
       "      <td>Unknown</td>\n",
       "    </tr>\n",
       "    <tr>\n",
       "      <th>5822</th>\n",
       "      <td>Vascular Plant</td>\n",
       "      <td>Vitis californica</td>\n",
       "      <td>California Grape, California Wild Grape</td>\n",
       "      <td>Unknown</td>\n",
       "    </tr>\n",
       "    <tr>\n",
       "      <th>5823</th>\n",
       "      <td>Vascular Plant</td>\n",
       "      <td>Tribulus terrestris</td>\n",
       "      <td>Bullhead, Caltrop, Goathead, Mexican Sandbur, ...</td>\n",
       "      <td>Unknown</td>\n",
       "    </tr>\n",
       "  </tbody>\n",
       "</table>\n",
       "<p>5541 rows × 4 columns</p>\n",
       "</div>"
      ],
      "text/plain": [
       "            category                scientific_name  \\\n",
       "0             Mammal  Clethrionomys gapperi gapperi   \n",
       "1             Mammal                      Bos bison   \n",
       "2             Mammal                     Bos taurus   \n",
       "3             Mammal                     Ovis aries   \n",
       "4             Mammal                 Cervus elaphus   \n",
       "...              ...                            ...   \n",
       "5819  Vascular Plant               Solanum parishii   \n",
       "5820  Vascular Plant                  Solanum xanti   \n",
       "5821  Vascular Plant         Parthenocissus vitacea   \n",
       "5822  Vascular Plant              Vitis californica   \n",
       "5823  Vascular Plant            Tribulus terrestris   \n",
       "\n",
       "                                           common_names conservation_status  \n",
       "0                              Gapper's Red-Backed Vole             Unknown  \n",
       "1                                 American Bison, Bison             Unknown  \n",
       "2     Aurochs, Aurochs, Domestic Cattle (Feral), Dom...             Unknown  \n",
       "3     Domestic Sheep, Mouflon, Red Sheep, Sheep (Feral)             Unknown  \n",
       "4                                         Wapiti Or Elk             Unknown  \n",
       "...                                                 ...                 ...  \n",
       "5819                                Parish's Nightshade             Unknown  \n",
       "5820            Chaparral Nightshade, Purple Nightshade             Unknown  \n",
       "5821        Thicket Creeper, Virginia Creeper, Woodbine             Unknown  \n",
       "5822            California Grape, California Wild Grape             Unknown  \n",
       "5823  Bullhead, Caltrop, Goathead, Mexican Sandbur, ...             Unknown  \n",
       "\n",
       "[5541 rows x 4 columns]"
      ]
     },
     "execution_count": 13,
     "metadata": {},
     "output_type": "execute_result"
    }
   ],
   "source": [
    "# Remove duplicated name in df_spec, to prevent generate extra rows when left joining with df_obj\n",
    "df_spec.drop_duplicates(subset=['scientific_name'],inplace = True) \n",
    "df_spec"
   ]
  },
  {
   "cell_type": "markdown",
   "metadata": {},
   "source": [
    "##### df_spec's precheck result: Replaced nan in coservation_status into 'Unknown'"
   ]
  },
  {
   "cell_type": "markdown",
   "metadata": {},
   "source": [
    "# Combine two dataframe "
   ]
  },
  {
   "cell_type": "code",
   "execution_count": 14,
   "metadata": {},
   "outputs": [
    {
     "data": {
      "text/html": [
       "<div>\n",
       "<style scoped>\n",
       "    .dataframe tbody tr th:only-of-type {\n",
       "        vertical-align: middle;\n",
       "    }\n",
       "\n",
       "    .dataframe tbody tr th {\n",
       "        vertical-align: top;\n",
       "    }\n",
       "\n",
       "    .dataframe thead th {\n",
       "        text-align: right;\n",
       "    }\n",
       "</style>\n",
       "<table border=\"1\" class=\"dataframe\">\n",
       "  <thead>\n",
       "    <tr style=\"text-align: right;\">\n",
       "      <th></th>\n",
       "      <th>scientific_name</th>\n",
       "      <th>park_name</th>\n",
       "      <th>observations</th>\n",
       "      <th>category</th>\n",
       "      <th>common_names</th>\n",
       "      <th>conservation_status</th>\n",
       "    </tr>\n",
       "  </thead>\n",
       "  <tbody>\n",
       "    <tr>\n",
       "      <th>0</th>\n",
       "      <td>Vicia benghalensis</td>\n",
       "      <td>Great Smoky Mountains National Park</td>\n",
       "      <td>68</td>\n",
       "      <td>Vascular Plant</td>\n",
       "      <td>Purple Vetch, Reddish Tufted Vetch</td>\n",
       "      <td>Unknown</td>\n",
       "    </tr>\n",
       "    <tr>\n",
       "      <th>1</th>\n",
       "      <td>Neovison vison</td>\n",
       "      <td>Great Smoky Mountains National Park</td>\n",
       "      <td>77</td>\n",
       "      <td>Mammal</td>\n",
       "      <td>American Mink</td>\n",
       "      <td>Unknown</td>\n",
       "    </tr>\n",
       "    <tr>\n",
       "      <th>2</th>\n",
       "      <td>Prunus subcordata</td>\n",
       "      <td>Yosemite National Park</td>\n",
       "      <td>138</td>\n",
       "      <td>Vascular Plant</td>\n",
       "      <td>Klamath Plum</td>\n",
       "      <td>Unknown</td>\n",
       "    </tr>\n",
       "    <tr>\n",
       "      <th>3</th>\n",
       "      <td>Abutilon theophrasti</td>\n",
       "      <td>Bryce National Park</td>\n",
       "      <td>84</td>\n",
       "      <td>Vascular Plant</td>\n",
       "      <td>Velvetleaf</td>\n",
       "      <td>Unknown</td>\n",
       "    </tr>\n",
       "    <tr>\n",
       "      <th>4</th>\n",
       "      <td>Githopsis specularioides</td>\n",
       "      <td>Great Smoky Mountains National Park</td>\n",
       "      <td>85</td>\n",
       "      <td>Vascular Plant</td>\n",
       "      <td>Common Bluecup</td>\n",
       "      <td>Unknown</td>\n",
       "    </tr>\n",
       "  </tbody>\n",
       "</table>\n",
       "</div>"
      ],
      "text/plain": [
       "            scientific_name                            park_name  \\\n",
       "0        Vicia benghalensis  Great Smoky Mountains National Park   \n",
       "1            Neovison vison  Great Smoky Mountains National Park   \n",
       "2         Prunus subcordata               Yosemite National Park   \n",
       "3      Abutilon theophrasti                  Bryce National Park   \n",
       "4  Githopsis specularioides  Great Smoky Mountains National Park   \n",
       "\n",
       "   observations        category                        common_names  \\\n",
       "0            68  Vascular Plant  Purple Vetch, Reddish Tufted Vetch   \n",
       "1            77          Mammal                       American Mink   \n",
       "2           138  Vascular Plant                        Klamath Plum   \n",
       "3            84  Vascular Plant                          Velvetleaf   \n",
       "4            85  Vascular Plant                      Common Bluecup   \n",
       "\n",
       "  conservation_status  \n",
       "0             Unknown  \n",
       "1             Unknown  \n",
       "2             Unknown  \n",
       "3             Unknown  \n",
       "4             Unknown  "
      ]
     },
     "execution_count": 14,
     "metadata": {},
     "output_type": "execute_result"
    }
   ],
   "source": [
    "df = df_obs.merge(df_spec, how ='left', left_on = 'scientific_name', right_on ='scientific_name')\n",
    "df.head()"
   ]
  },
  {
   "cell_type": "code",
   "execution_count": 15,
   "metadata": {},
   "outputs": [
    {
     "data": {
      "text/plain": [
       "23296"
      ]
     },
     "execution_count": 15,
     "metadata": {},
     "output_type": "execute_result"
    }
   ],
   "source": [
    "#make sure total rows of df(Our new df) is same as the df_obs, otherwise it will affect the statistic result if any\n",
    "len(df_obs)"
   ]
  },
  {
   "cell_type": "code",
   "execution_count": 16,
   "metadata": {},
   "outputs": [
    {
     "name": "stdout",
     "output_type": "stream",
     "text": [
      "<class 'pandas.core.frame.DataFrame'>\n",
      "Int64Index: 23296 entries, 0 to 23295\n",
      "Data columns (total 6 columns):\n",
      " #   Column               Non-Null Count  Dtype \n",
      "---  ------               --------------  ----- \n",
      " 0   scientific_name      23296 non-null  object\n",
      " 1   park_name            23296 non-null  object\n",
      " 2   observations         23296 non-null  int64 \n",
      " 3   category             23296 non-null  object\n",
      " 4   common_names         23296 non-null  object\n",
      " 5   conservation_status  23296 non-null  object\n",
      "dtypes: int64(1), object(5)\n",
      "memory usage: 1.2+ MB\n"
     ]
    }
   ],
   "source": [
    "df.info()"
   ]
  },
  {
   "cell_type": "markdown",
   "metadata": {},
   "source": [
    "#  <mark> __Analytic objective list for the project__:\n",
    "1. Which park had the most observations(Despite the conservation status)?\n",
    "2. Which park had the most number of endangered species?\n",
    "3. What is the distribution of conservation_status for animals?\n",
    "4. Are certain types of species more likely to be endangered?\n",
    "5. Is the difference between each species(category) and their conservation status are significant?"
   ]
  },
  {
   "cell_type": "markdown",
   "metadata": {},
   "source": [
    "##### Objective 1, Which park had the most observations(Despite the conservation status)?"
   ]
  },
  {
   "cell_type": "code",
   "execution_count": 17,
   "metadata": {},
   "outputs": [
    {
     "data": {
      "text/html": [
       "<div>\n",
       "<style scoped>\n",
       "    .dataframe tbody tr th:only-of-type {\n",
       "        vertical-align: middle;\n",
       "    }\n",
       "\n",
       "    .dataframe tbody tr th {\n",
       "        vertical-align: top;\n",
       "    }\n",
       "\n",
       "    .dataframe thead th {\n",
       "        text-align: right;\n",
       "    }\n",
       "</style>\n",
       "<table border=\"1\" class=\"dataframe\">\n",
       "  <thead>\n",
       "    <tr style=\"text-align: right;\">\n",
       "      <th></th>\n",
       "      <th>park_name</th>\n",
       "      <th>observations</th>\n",
       "    </tr>\n",
       "  </thead>\n",
       "  <tbody>\n",
       "    <tr>\n",
       "      <th>0</th>\n",
       "      <td>Bryce National Park</td>\n",
       "      <td>576025</td>\n",
       "    </tr>\n",
       "    <tr>\n",
       "      <th>1</th>\n",
       "      <td>Great Smoky Mountains National Park</td>\n",
       "      <td>431820</td>\n",
       "    </tr>\n",
       "    <tr>\n",
       "      <th>2</th>\n",
       "      <td>Yellowstone National Park</td>\n",
       "      <td>1443562</td>\n",
       "    </tr>\n",
       "    <tr>\n",
       "      <th>3</th>\n",
       "      <td>Yosemite National Park</td>\n",
       "      <td>863332</td>\n",
       "    </tr>\n",
       "  </tbody>\n",
       "</table>\n",
       "</div>"
      ],
      "text/plain": [
       "                             park_name  observations\n",
       "0                  Bryce National Park        576025\n",
       "1  Great Smoky Mountains National Park        431820\n",
       "2            Yellowstone National Park       1443562\n",
       "3               Yosemite National Park        863332"
      ]
     },
     "execution_count": 17,
     "metadata": {},
     "output_type": "execute_result"
    }
   ],
   "source": [
    "unique_spec_df = df.groupby(['park_name'])['observations'].sum().reset_index()\n",
    "unique_spec_df"
   ]
  },
  {
   "cell_type": "code",
   "execution_count": 18,
   "metadata": {},
   "outputs": [
    {
     "data": {
      "image/png": "[encoded data removed]",
      "text/plain": [
       "<Figure size 576x432 with 1 Axes>"
      ]
     },
     "metadata": {
      "needs_background": "light"
     },
     "output_type": "display_data"
    }
   ],
   "source": [
    "plt.figure(figsize=(8,6))\n",
    "sns.barplot(data = unique_spec_df, y = 'park_name', x ='observations')\n",
    "leg = plt.legend(labels =[576025,431820,1443562,863332], shadow = True, title ='Observation Number') #handles=['blue','orange','green','red']\n",
    "leg.legendHandles[0].set_color('blue')\n",
    "leg.legendHandles[1].set_color('orange')\n",
    "leg.legendHandles[2].set_color('green')\n",
    "leg.legendHandles[3].set_color('red')\n",
    "plt.ylabel('Park Name')\n",
    "plt.xlabel('Observations(Figure 1)')\n",
    "plt.title('Total Number Of Observation In The Parks', fontsize = 15)\n",
    "plt.show();"
   ]
  },
  {
   "cell_type": "markdown",
   "metadata": {},
   "source": [
    "##### __Objective 1's Analysis Result:__\n",
    "<br>\n",
    "<font color ='red'>Based on the figure 1, despite conservation status and species type, we can saw that Yellowstone National Park has a richer vitality among the others among other parks."
   ]
  },
  {
   "cell_type": "markdown",
   "metadata": {},
   "source": [
    "##### Objective 2, Which park had the most number of endangered species?"
   ]
  },
  {
   "cell_type": "code",
   "execution_count": 19,
   "metadata": {},
   "outputs": [
    {
     "data": {
      "text/html": [
       "<div>\n",
       "<style scoped>\n",
       "    .dataframe tbody tr th:only-of-type {\n",
       "        vertical-align: middle;\n",
       "    }\n",
       "\n",
       "    .dataframe tbody tr th {\n",
       "        vertical-align: top;\n",
       "    }\n",
       "\n",
       "    .dataframe thead th {\n",
       "        text-align: right;\n",
       "    }\n",
       "</style>\n",
       "<table border=\"1\" class=\"dataframe\">\n",
       "  <thead>\n",
       "    <tr style=\"text-align: right;\">\n",
       "      <th></th>\n",
       "      <th>park_name</th>\n",
       "      <th>conservation_status</th>\n",
       "      <th>observations</th>\n",
       "    </tr>\n",
       "  </thead>\n",
       "  <tbody>\n",
       "    <tr>\n",
       "      <th>0</th>\n",
       "      <td>Bryce National Park</td>\n",
       "      <td>Endangered</td>\n",
       "      <td>489</td>\n",
       "    </tr>\n",
       "    <tr>\n",
       "      <th>1</th>\n",
       "      <td>Bryce National Park</td>\n",
       "      <td>In Recovery</td>\n",
       "      <td>258</td>\n",
       "    </tr>\n",
       "    <tr>\n",
       "      <th>2</th>\n",
       "      <td>Bryce National Park</td>\n",
       "      <td>Species of Concern</td>\n",
       "      <td>14925</td>\n",
       "    </tr>\n",
       "    <tr>\n",
       "      <th>3</th>\n",
       "      <td>Bryce National Park</td>\n",
       "      <td>Threatened</td>\n",
       "      <td>427</td>\n",
       "    </tr>\n",
       "    <tr>\n",
       "      <th>4</th>\n",
       "      <td>Bryce National Park</td>\n",
       "      <td>Unknown</td>\n",
       "      <td>559926</td>\n",
       "    </tr>\n",
       "  </tbody>\n",
       "</table>\n",
       "</div>"
      ],
      "text/plain": [
       "             park_name conservation_status  observations\n",
       "0  Bryce National Park          Endangered           489\n",
       "1  Bryce National Park         In Recovery           258\n",
       "2  Bryce National Park  Species of Concern         14925\n",
       "3  Bryce National Park          Threatened           427\n",
       "4  Bryce National Park             Unknown        559926"
      ]
     },
     "execution_count": 19,
     "metadata": {},
     "output_type": "execute_result"
    }
   ],
   "source": [
    "endangered_df = df.groupby(['park_name', 'conservation_status'])['observations'].sum().reset_index()\n",
    "endangered_df.head()"
   ]
  },
  {
   "cell_type": "code",
   "execution_count": 20,
   "metadata": {},
   "outputs": [
    {
     "data": {
      "image/png": "[encoded data removed]",
      "text/plain": [
       "<Figure size 360x360 with 1 Axes>"
      ]
     },
     "metadata": {},
     "output_type": "display_data"
    }
   ],
   "source": [
    "pie_labels = endangered_df['park_name'].unique()\n",
    "pie_values= endangered_df[endangered_df['conservation_status']=='Endangered']['observations']\n",
    "plt.figure(figsize = (5,5))\n",
    "plt.pie(x = pie_values, labels = pie_labels, autopct = '%.2f%%')\n",
    "plt.axis('equal')\n",
    "plt.title('Endangered Species Observation\\'s Ratio(Figure 2)', pad=40, fontsize = 15);"
   ]
  },
  {
   "cell_type": "markdown",
   "metadata": {},
   "source": [
    "##### __Objective 2's Analysis Result:__\n",
    "<br>\n",
    "<font color = 'red'> We can see that Yellowstone National Park hold the highest ratio of endangered species among the other park from above figure 2."
   ]
  },
  {
   "cell_type": "markdown",
   "metadata": {},
   "source": [
    "##### Objective 3, What is the distribution of conservation_status for animals?"
   ]
  },
  {
   "cell_type": "code",
   "execution_count": 21,
   "metadata": {},
   "outputs": [
    {
     "data": {
      "text/html": [
       "<div>\n",
       "<style scoped>\n",
       "    .dataframe tbody tr th:only-of-type {\n",
       "        vertical-align: middle;\n",
       "    }\n",
       "\n",
       "    .dataframe tbody tr th {\n",
       "        vertical-align: top;\n",
       "    }\n",
       "\n",
       "    .dataframe thead th {\n",
       "        text-align: right;\n",
       "    }\n",
       "</style>\n",
       "<table border=\"1\" class=\"dataframe\">\n",
       "  <thead>\n",
       "    <tr style=\"text-align: right;\">\n",
       "      <th></th>\n",
       "      <th>category</th>\n",
       "      <th>conservation_status</th>\n",
       "      <th>observations</th>\n",
       "      <th>standardscaler_observations</th>\n",
       "      <th>logtransformed_observations</th>\n",
       "    </tr>\n",
       "  </thead>\n",
       "  <tbody>\n",
       "    <tr>\n",
       "      <th>0</th>\n",
       "      <td>Amphibian</td>\n",
       "      <td>Endangered</td>\n",
       "      <td>4</td>\n",
       "      <td>-0.529872</td>\n",
       "      <td>1.386294</td>\n",
       "    </tr>\n",
       "    <tr>\n",
       "      <th>1</th>\n",
       "      <td>Amphibian</td>\n",
       "      <td>Species of Concern</td>\n",
       "      <td>16</td>\n",
       "      <td>-0.501344</td>\n",
       "      <td>2.772589</td>\n",
       "    </tr>\n",
       "    <tr>\n",
       "      <th>2</th>\n",
       "      <td>Amphibian</td>\n",
       "      <td>Threatened</td>\n",
       "      <td>8</td>\n",
       "      <td>-0.520363</td>\n",
       "      <td>2.079442</td>\n",
       "    </tr>\n",
       "    <tr>\n",
       "      <th>3</th>\n",
       "      <td>Amphibian</td>\n",
       "      <td>Unknown</td>\n",
       "      <td>292</td>\n",
       "      <td>0.154788</td>\n",
       "      <td>5.676754</td>\n",
       "    </tr>\n",
       "    <tr>\n",
       "      <th>4</th>\n",
       "      <td>Bird</td>\n",
       "      <td>Endangered</td>\n",
       "      <td>16</td>\n",
       "      <td>-0.501344</td>\n",
       "      <td>2.772589</td>\n",
       "    </tr>\n",
       "  </tbody>\n",
       "</table>\n",
       "</div>"
      ],
      "text/plain": [
       "    category conservation_status  observations  standardscaler_observations  \\\n",
       "0  Amphibian          Endangered             4                    -0.529872   \n",
       "1  Amphibian  Species of Concern            16                    -0.501344   \n",
       "2  Amphibian          Threatened             8                    -0.520363   \n",
       "3  Amphibian             Unknown           292                     0.154788   \n",
       "4       Bird          Endangered            16                    -0.501344   \n",
       "\n",
       "   logtransformed_observations  \n",
       "0                     1.386294  \n",
       "1                     2.772589  \n",
       "2                     2.079442  \n",
       "3                     5.676754  \n",
       "4                     2.772589  "
      ]
     },
     "execution_count": 21,
     "metadata": {},
     "output_type": "execute_result"
    }
   ],
   "source": [
    "# reformating and subset(category: Animals only) the data tabular format by groupby function for plotting purpose.\n",
    "bar_df = df.groupby(['category', 'conservation_status'])['observations'].count().reset_index()\n",
    "bar_df_animal = bar_df.query('category !=[\"Nonvascular Plant\",\"Vascular Plant\"]')\n",
    "\n",
    "\n",
    "# instead of removed the outliers of unknown status when doing plotting, I decided to scaling it down\n",
    "\n",
    "scaler = StandardScaler()\n",
    "bar_df_animal['standardscaler_observations'] = scaler.fit_transform(np.array(bar_df_animal['observations']).reshape(-1,1))\n",
    "# Realized I cant use standard scaler as it will result negative, if i use Abs() function to convert it\n",
    "# the distribution result is misleading\n",
    "\n",
    "\n",
    "# Therefore, I decided to use numpy.log\n",
    "bar_df_animal['logtransformed_observations'] = np.log(bar_df_animal['observations'])\n",
    "bar_df_animal.head()"
   ]
  },
  {
   "cell_type": "code",
   "execution_count": 22,
   "metadata": {},
   "outputs": [
    {
     "data": {
      "image/png": "[encoded data removed]",
      "text/plain": [
       "<Figure size 864x720 with 2 Axes>"
      ]
     },
     "metadata": {
      "needs_background": "light"
     },
     "output_type": "display_data"
    }
   ],
   "source": [
    "fig , ax = plt.subplots(2,1, figsize = (12,10))\n",
    "plt.subplots_adjust(hspace = 0.3)\n",
    "sns.set_style('darkgrid')\n",
    "\n",
    "sns.barplot(data = bar_df_animal, x = 'category', y = 'observations', hue = 'conservation_status', ax = ax[0])\n",
    "#ax[0].axis([0,5,0,500]) #Uncomment to zoom in\n",
    "ax[0].set_title('Distribution Of Conservation Status For Animals(Without Log Transformation)')\n",
    "ax[0].set_xlabel('Category(Figure 3.1)')\n",
    "ax[0].set_ylabel('Observation')\n",
    "\n",
    "sns.barplot(data = bar_df_animal, x = 'category', y = 'logtransformed_observations', hue = 'conservation_status', ax = ax[1])\n",
    "ax[1].set_title('Distribution Of Conservation Status For Animals(With Log Transformation)')\n",
    "plt.legend(loc = 'upper right', bbox_to_anchor= (1.2, 1));\n",
    "ax[1].set_xlabel('Category(Figure 3.2)')\n",
    "ax[1].set_ylabel('Observation(Log Transformed)');"
   ]
  },
  {
   "cell_type": "markdown",
   "metadata": {},
   "source": [
    "##### __Objective 3's Analysis Result:__\n",
    "<br>\n",
    "<font color = 'red'> I subset the plant species away from the above data frame to display the distribution of conservation status of animals. Figure 3.1 is a bar graph without log-transformed, we saw that most of the data were contributed by unknown status. Therefore, I use log-transformed to convert the all status's observation values into a smaller scale and reduce the skewness affected by unknown status. \n",
    "<br><br>    \n",
    "From figure 3.2 and the angle of conservation status, we knew that bird species had the highest ratio in the status of 'Species of Concern', followed by mammal species in the 'Endangered', fish species in the 'Threatened'.\n"
   ]
  },
  {
   "cell_type": "markdown",
   "metadata": {},
   "source": [
    "##### Objective 4, Are certain types of species more likely to be endangered?"
   ]
  },
  {
   "cell_type": "code",
   "execution_count": 23,
   "metadata": {},
   "outputs": [
    {
     "data": {
      "text/plain": [
       "array(['Unknown', 'Species of Concern', 'Endangered', 'Threatened',\n",
       "       'In Recovery'], dtype=object)"
      ]
     },
     "execution_count": 23,
     "metadata": {},
     "output_type": "execute_result"
    }
   ],
   "source": [
    "df['conservation_status'].unique()"
   ]
  },
  {
   "cell_type": "code",
   "execution_count": 24,
   "metadata": {},
   "outputs": [
    {
     "data": {
      "text/html": [
       "<div>\n",
       "<style scoped>\n",
       "    .dataframe tbody tr th:only-of-type {\n",
       "        vertical-align: middle;\n",
       "    }\n",
       "\n",
       "    .dataframe tbody tr th {\n",
       "        vertical-align: top;\n",
       "    }\n",
       "\n",
       "    .dataframe thead th {\n",
       "        text-align: right;\n",
       "    }\n",
       "</style>\n",
       "<table border=\"1\" class=\"dataframe\">\n",
       "  <thead>\n",
       "    <tr style=\"text-align: right;\">\n",
       "      <th></th>\n",
       "      <th>category</th>\n",
       "      <th>conservation_status</th>\n",
       "      <th>scientific_name</th>\n",
       "      <th>observations</th>\n",
       "    </tr>\n",
       "  </thead>\n",
       "  <tbody>\n",
       "    <tr>\n",
       "      <th>0</th>\n",
       "      <td>Amphibian</td>\n",
       "      <td>Threatened</td>\n",
       "      <td>Anaxyrus canorus</td>\n",
       "      <td>274</td>\n",
       "    </tr>\n",
       "    <tr>\n",
       "      <th>1</th>\n",
       "      <td>Amphibian</td>\n",
       "      <td>Threatened</td>\n",
       "      <td>Rana draytonii</td>\n",
       "      <td>290</td>\n",
       "    </tr>\n",
       "    <tr>\n",
       "      <th>2</th>\n",
       "      <td>Fish</td>\n",
       "      <td>Threatened</td>\n",
       "      <td>Erimonax monachus</td>\n",
       "      <td>242</td>\n",
       "    </tr>\n",
       "    <tr>\n",
       "      <th>3</th>\n",
       "      <td>Fish</td>\n",
       "      <td>Threatened</td>\n",
       "      <td>Noturus flavipinnis</td>\n",
       "      <td>289</td>\n",
       "    </tr>\n",
       "    <tr>\n",
       "      <th>4</th>\n",
       "      <td>Fish</td>\n",
       "      <td>Threatened</td>\n",
       "      <td>Oncorhynchus clarkii henshawi</td>\n",
       "      <td>301</td>\n",
       "    </tr>\n",
       "    <tr>\n",
       "      <th>5</th>\n",
       "      <td>Mammal</td>\n",
       "      <td>Threatened</td>\n",
       "      <td>Myotis septentrionalis</td>\n",
       "      <td>302</td>\n",
       "    </tr>\n",
       "    <tr>\n",
       "      <th>6</th>\n",
       "      <td>Mammal</td>\n",
       "      <td>Threatened</td>\n",
       "      <td>Ursus arctos horribilis</td>\n",
       "      <td>276</td>\n",
       "    </tr>\n",
       "    <tr>\n",
       "      <th>7</th>\n",
       "      <td>Vascular Plant</td>\n",
       "      <td>Threatened</td>\n",
       "      <td>Isotria medeoloides</td>\n",
       "      <td>274</td>\n",
       "    </tr>\n",
       "    <tr>\n",
       "      <th>8</th>\n",
       "      <td>Vascular Plant</td>\n",
       "      <td>Threatened</td>\n",
       "      <td>Spiraea virginiana</td>\n",
       "      <td>278</td>\n",
       "    </tr>\n",
       "  </tbody>\n",
       "</table>\n",
       "</div>"
      ],
      "text/plain": [
       "         category conservation_status                scientific_name  \\\n",
       "0       Amphibian          Threatened               Anaxyrus canorus   \n",
       "1       Amphibian          Threatened                 Rana draytonii   \n",
       "2            Fish          Threatened              Erimonax monachus   \n",
       "3            Fish          Threatened            Noturus flavipinnis   \n",
       "4            Fish          Threatened  Oncorhynchus clarkii henshawi   \n",
       "5          Mammal          Threatened         Myotis septentrionalis   \n",
       "6          Mammal          Threatened        Ursus arctos horribilis   \n",
       "7  Vascular Plant          Threatened            Isotria medeoloides   \n",
       "8  Vascular Plant          Threatened             Spiraea virginiana   \n",
       "\n",
       "   observations  \n",
       "0           274  \n",
       "1           290  \n",
       "2           242  \n",
       "3           289  \n",
       "4           301  \n",
       "5           302  \n",
       "6           276  \n",
       "7           274  \n",
       "8           278  "
      ]
     },
     "execution_count": 24,
     "metadata": {},
     "output_type": "execute_result"
    }
   ],
   "source": [
    "likely_endanger_df =  df.groupby(['category','conservation_status','scientific_name'])['observations'].sum().reset_index()\n",
    "likely_endanger_df =likely_endanger_df.query('conservation_status ==\"Threatened\"')\\\n",
    "                        .sort_values(by='category').reset_index(drop=True)\n",
    "likely_endanger_df"
   ]
  },
  {
   "cell_type": "code",
   "execution_count": 25,
   "metadata": {},
   "outputs": [
    {
     "data": {
      "text/plain": [
       "array(['Amphibian', 'Fish', 'Mammal', 'Vascular Plant'], dtype=object)"
      ]
     },
     "execution_count": 25,
     "metadata": {},
     "output_type": "execute_result"
    }
   ],
   "source": [
    "likely_endanger_df['category'].unique()"
   ]
  },
  {
   "cell_type": "code",
   "execution_count": 26,
   "metadata": {
    "scrolled": false
   },
   "outputs": [
    {
     "data": {
      "text/plain": [
       "array(['Anaxyrus canorus', 'Rana draytonii', 'Erimonax monachus',\n",
       "       'Noturus flavipinnis', 'Oncorhynchus clarkii henshawi',\n",
       "       'Myotis septentrionalis', 'Ursus arctos horribilis',\n",
       "       'Isotria medeoloides', 'Spiraea virginiana'], dtype=object)"
      ]
     },
     "execution_count": 26,
     "metadata": {},
     "output_type": "execute_result"
    }
   ],
   "source": [
    "likely_endanger_df['scientific_name'].unique()"
   ]
  },
  {
   "cell_type": "markdown",
   "metadata": {},
   "source": [
    "##### __Objective 4's Analysis Result:__\n",
    "<br>\n",
    "<font color = 'red'> The above tabular data show there are four type of species ['Amphibian', 'Fish', 'Mammal', 'Vascular Plant'] which likely to be classify as endangered in future if no action is taken. Here are the list of species being classified as 'Threathened' as below:\n",
    "    <br>\n",
    "- 2 x Amphibian type(Anaxyrus canorus, Rana draytonii)\n",
    "    <br>\n",
    "- 3 x Fish type(Rana draytonii, Noturus flavipinnis, Oncorhynchus clarkii henshawi)\n",
    "    <br>\n",
    "- 2 x Mammal type(Myotis septentrionalis, Ursus arctos horribilis)\n",
    "    <br>\n",
    "- 2 x Vascular Plant(Isotria medeoloides, Spiraea virginiana)"
   ]
  },
  {
   "cell_type": "markdown",
   "metadata": {},
   "source": [
    "##### Objective 5, is the difference between each species(category) and their conservation status are significant?"
   ]
  },
  {
   "cell_type": "code",
   "execution_count": 27,
   "metadata": {},
   "outputs": [
    {
     "data": {
      "text/html": [
       "<div>\n",
       "<style scoped>\n",
       "    .dataframe tbody tr th:only-of-type {\n",
       "        vertical-align: middle;\n",
       "    }\n",
       "\n",
       "    .dataframe tbody tr th {\n",
       "        vertical-align: top;\n",
       "    }\n",
       "\n",
       "    .dataframe thead th {\n",
       "        text-align: right;\n",
       "    }\n",
       "</style>\n",
       "<table border=\"1\" class=\"dataframe\">\n",
       "  <thead>\n",
       "    <tr style=\"text-align: right;\">\n",
       "      <th></th>\n",
       "      <th>category</th>\n",
       "      <th>conservation_status</th>\n",
       "      <th>observations</th>\n",
       "    </tr>\n",
       "  </thead>\n",
       "  <tbody>\n",
       "    <tr>\n",
       "      <th>0</th>\n",
       "      <td>Amphibian</td>\n",
       "      <td>Endangered</td>\n",
       "      <td>144</td>\n",
       "    </tr>\n",
       "    <tr>\n",
       "      <th>1</th>\n",
       "      <td>Amphibian</td>\n",
       "      <td>Species of Concern</td>\n",
       "      <td>2044</td>\n",
       "    </tr>\n",
       "    <tr>\n",
       "      <th>2</th>\n",
       "      <td>Amphibian</td>\n",
       "      <td>Threatened</td>\n",
       "      <td>564</td>\n",
       "    </tr>\n",
       "    <tr>\n",
       "      <th>3</th>\n",
       "      <td>Amphibian</td>\n",
       "      <td>Unknown</td>\n",
       "      <td>41219</td>\n",
       "    </tr>\n",
       "    <tr>\n",
       "      <th>4</th>\n",
       "      <td>Bird</td>\n",
       "      <td>Endangered</td>\n",
       "      <td>574</td>\n",
       "    </tr>\n",
       "    <tr>\n",
       "      <th>5</th>\n",
       "      <td>Bird</td>\n",
       "      <td>In Recovery</td>\n",
       "      <td>1392</td>\n",
       "    </tr>\n",
       "    <tr>\n",
       "      <th>6</th>\n",
       "      <td>Bird</td>\n",
       "      <td>Species of Concern</td>\n",
       "      <td>36642</td>\n",
       "    </tr>\n",
       "    <tr>\n",
       "      <th>7</th>\n",
       "      <td>Bird</td>\n",
       "      <td>Unknown</td>\n",
       "      <td>254225</td>\n",
       "    </tr>\n",
       "    <tr>\n",
       "      <th>8</th>\n",
       "      <td>Fish</td>\n",
       "      <td>Endangered</td>\n",
       "      <td>455</td>\n",
       "    </tr>\n",
       "    <tr>\n",
       "      <th>9</th>\n",
       "      <td>Fish</td>\n",
       "      <td>Species of Concern</td>\n",
       "      <td>2109</td>\n",
       "    </tr>\n",
       "    <tr>\n",
       "      <th>10</th>\n",
       "      <td>Fish</td>\n",
       "      <td>Threatened</td>\n",
       "      <td>832</td>\n",
       "    </tr>\n",
       "    <tr>\n",
       "      <th>11</th>\n",
       "      <td>Fish</td>\n",
       "      <td>Unknown</td>\n",
       "      <td>67422</td>\n",
       "    </tr>\n",
       "    <tr>\n",
       "      <th>12</th>\n",
       "      <td>Mammal</td>\n",
       "      <td>Endangered</td>\n",
       "      <td>1463</td>\n",
       "    </tr>\n",
       "    <tr>\n",
       "      <th>13</th>\n",
       "      <td>Mammal</td>\n",
       "      <td>Species of Concern</td>\n",
       "      <td>14408</td>\n",
       "    </tr>\n",
       "    <tr>\n",
       "      <th>14</th>\n",
       "      <td>Mammal</td>\n",
       "      <td>Threatened</td>\n",
       "      <td>578</td>\n",
       "    </tr>\n",
       "    <tr>\n",
       "      <th>15</th>\n",
       "      <td>Mammal</td>\n",
       "      <td>Unknown</td>\n",
       "      <td>100247</td>\n",
       "    </tr>\n",
       "    <tr>\n",
       "      <th>16</th>\n",
       "      <td>Nonvascular Plant</td>\n",
       "      <td>Species of Concern</td>\n",
       "      <td>2705</td>\n",
       "    </tr>\n",
       "    <tr>\n",
       "      <th>17</th>\n",
       "      <td>Nonvascular Plant</td>\n",
       "      <td>Unknown</td>\n",
       "      <td>187948</td>\n",
       "    </tr>\n",
       "    <tr>\n",
       "      <th>18</th>\n",
       "      <td>Reptile</td>\n",
       "      <td>Species of Concern</td>\n",
       "      <td>2536</td>\n",
       "    </tr>\n",
       "    <tr>\n",
       "      <th>19</th>\n",
       "      <td>Reptile</td>\n",
       "      <td>Unknown</td>\n",
       "      <td>42142</td>\n",
       "    </tr>\n",
       "    <tr>\n",
       "      <th>20</th>\n",
       "      <td>Vascular Plant</td>\n",
       "      <td>Endangered</td>\n",
       "      <td>162</td>\n",
       "    </tr>\n",
       "    <tr>\n",
       "      <th>21</th>\n",
       "      <td>Vascular Plant</td>\n",
       "      <td>Species of Concern</td>\n",
       "      <td>22135</td>\n",
       "    </tr>\n",
       "    <tr>\n",
       "      <th>22</th>\n",
       "      <td>Vascular Plant</td>\n",
       "      <td>Threatened</td>\n",
       "      <td>552</td>\n",
       "    </tr>\n",
       "    <tr>\n",
       "      <th>23</th>\n",
       "      <td>Vascular Plant</td>\n",
       "      <td>Unknown</td>\n",
       "      <td>2532241</td>\n",
       "    </tr>\n",
       "  </tbody>\n",
       "</table>\n",
       "</div>"
      ],
      "text/plain": [
       "             category conservation_status  observations\n",
       "0           Amphibian          Endangered           144\n",
       "1           Amphibian  Species of Concern          2044\n",
       "2           Amphibian          Threatened           564\n",
       "3           Amphibian             Unknown         41219\n",
       "4                Bird          Endangered           574\n",
       "5                Bird         In Recovery          1392\n",
       "6                Bird  Species of Concern         36642\n",
       "7                Bird             Unknown        254225\n",
       "8                Fish          Endangered           455\n",
       "9                Fish  Species of Concern          2109\n",
       "10               Fish          Threatened           832\n",
       "11               Fish             Unknown         67422\n",
       "12             Mammal          Endangered          1463\n",
       "13             Mammal  Species of Concern         14408\n",
       "14             Mammal          Threatened           578\n",
       "15             Mammal             Unknown        100247\n",
       "16  Nonvascular Plant  Species of Concern          2705\n",
       "17  Nonvascular Plant             Unknown        187948\n",
       "18            Reptile  Species of Concern          2536\n",
       "19            Reptile             Unknown         42142\n",
       "20     Vascular Plant          Endangered           162\n",
       "21     Vascular Plant  Species of Concern         22135\n",
       "22     Vascular Plant          Threatened           552\n",
       "23     Vascular Plant             Unknown       2532241"
      ]
     },
     "execution_count": 27,
     "metadata": {},
     "output_type": "execute_result"
    }
   ],
   "source": [
    "diff_spec_status = df.groupby(['category','conservation_status'])['observations'].sum().reset_index()\n",
    "diff_spec_status"
   ]
  },
  {
   "cell_type": "code",
   "execution_count": 28,
   "metadata": {},
   "outputs": [
    {
     "data": {
      "image/png": "[encoded data removed]",
      "text/plain": [
       "<Figure size 432x288 with 1 Axes>"
      ]
     },
     "metadata": {},
     "output_type": "display_data"
    }
   ],
   "source": [
    "sns.barplot(data = diff_spec_status, x= 'conservation_status', y = 'observations', hue = 'category')\n",
    "plt.xlabel('Conservation Status(Figure 5.1)')\n",
    "plt.ylabel('Observations')\n",
    "plt.title('Distribution Of Species Category By Conservation Status')\n",
    "plt.xticks(rotation = 15);"
   ]
  },
  {
   "cell_type": "code",
   "execution_count": 29,
   "metadata": {
    "scrolled": false
   },
   "outputs": [
    {
     "data": {
      "image/png": "[encoded data removed]",
      "text/plain": [
       "<Figure size 720x576 with 1 Axes>"
      ]
     },
     "metadata": {},
     "output_type": "display_data"
    }
   ],
   "source": [
    "# 'Unknown' status is not really related to this question, and it's contained an imbalance ratio of observations number to \n",
    "#  other conservation status. Therefore, I decided to remove it.\n",
    "plt.figure(figsize=(10,8))\n",
    "subset_unknown = diff_spec_status.query('conservation_status != \"Unknown\"')\n",
    "sns.barplot(data = subset_unknown, x= 'conservation_status', y = 'observations', hue = 'category')\n",
    "plt.legend(ncol = 2, loc = 'upper right')\n",
    "plt.xlabel('Conservation Status(Figure 5.2)')\n",
    "plt.ylabel('Observations')\n",
    "plt.title('Observation Of Species Category By Conservation Status');"
   ]
  },
  {
   "cell_type": "code",
   "execution_count": 30,
   "metadata": {},
   "outputs": [
    {
     "data": {
      "image/png": "[encoded data removed]",
      "text/plain": [
       "<Figure size 720x576 with 1 Axes>"
      ]
     },
     "metadata": {},
     "output_type": "display_data"
    }
   ],
   "source": [
    "subset_unknown['log_transformed_obs'] = np.log(subset_unknown['observations'])\n",
    "plt.figure(figsize = (10,8))\n",
    "sns.barplot(data = subset_unknown, x= 'conservation_status', y = 'log_transformed_obs', hue = 'category')\n",
    "plt.legend(ncol = 2, loc = 'upper right')\n",
    "plt.xlabel('Conservation Status(Figure 5.3)')\n",
    "plt.ylabel('Observations(Log Transformed)')\n",
    "plt.title('Observation Of Species Category By Conservation Status');"
   ]
  },
  {
   "cell_type": "code",
   "execution_count": 31,
   "metadata": {},
   "outputs": [],
   "source": [
    "def tukey_test(category_name):\n",
    "    new_df = df[(df['category']== category_name)]\n",
    "    \n",
    "    print(pairwise_tukeyhsd(new_df['observations'], new_df['conservation_status'], 0.05))\n",
    "    print('\\n\\n')"
   ]
  },
  {
   "cell_type": "code",
   "execution_count": 32,
   "metadata": {},
   "outputs": [
    {
     "name": "stdout",
     "output_type": "stream",
     "text": [
      "Category Name: Vascular Plant\n",
      "              Multiple Comparison of Means - Tukey HSD, FWER=0.05              \n",
      "===============================================================================\n",
      "      group1             group2       meandiff p-adj    lower    upper   reject\n",
      "-------------------------------------------------------------------------------\n",
      "        Endangered Species of Concern  88.1919 0.0603   -2.5072 178.8909  False\n",
      "        Endangered         Threatened     28.5    0.9  -81.3136 138.3136  False\n",
      "        Endangered            Unknown 102.5968 0.0173   12.9242 192.2694   True\n",
      "Species of Concern         Threatened -59.6919 0.0842 -124.5505   5.1668  False\n",
      "Species of Concern            Unknown  14.4049 0.0356    0.6653  28.1446   True\n",
      "        Threatened            Unknown  74.0968 0.0143   10.6815 137.5121   True\n",
      "-------------------------------------------------------------------------------\n",
      "\n",
      "\n",
      "\n",
      "Category Name: Mammal\n",
      "              Multiple Comparison of Means - Tukey HSD, FWER=0.05              \n",
      "===============================================================================\n",
      "      group1             group2       meandiff p-adj    lower    upper   reject\n",
      "-------------------------------------------------------------------------------\n",
      "        Endangered Species of Concern  82.9241  0.001   47.9478 117.9004   True\n",
      "        Endangered         Threatened  26.5312 0.7295  -42.4429  95.5054  False\n",
      "        Endangered            Unknown  96.6776  0.001   65.1381  128.217   True\n",
      "Species of Concern         Threatened -56.3929 0.1052 -120.2505   7.4648  False\n",
      "Species of Concern            Unknown  13.7534 0.1908   -3.9977  31.5046  False\n",
      "        Threatened            Unknown  70.1463 0.0194    8.1044 132.1882   True\n",
      "-------------------------------------------------------------------------------\n",
      "\n",
      "\n",
      "\n",
      "Category Name: Bird\n",
      "             Multiple Comparison of Means - Tukey HSD, FWER=0.05              \n",
      "==============================================================================\n",
      "      group1             group2       meandiff p-adj   lower    upper   reject\n",
      "------------------------------------------------------------------------------\n",
      "        Endangered        In Recovery   80.125 0.0122  12.6709 147.5791   True\n",
      "        Endangered Species of Concern  91.3542  0.001   45.985 136.7233   True\n",
      "        Endangered            Unknown 107.9174  0.001   63.559 152.2758   True\n",
      "       In Recovery Species of Concern  11.2292    0.9 -40.8128  63.2711  False\n",
      "       In Recovery            Unknown  27.7924 0.5013 -23.3708  78.9557  False\n",
      "Species of Concern            Unknown  16.5633  0.001   5.3391  27.7874   True\n",
      "------------------------------------------------------------------------------\n",
      "\n",
      "\n",
      "\n",
      "Category Name: Nonvascular Plant\n",
      "       Multiple Comparison of Means - Tukey HSD, FWER=0.05        \n",
      "==================================================================\n",
      "      group1        group2 meandiff p-adj   lower    upper  reject\n",
      "------------------------------------------------------------------\n",
      "Species of Concern Unknown    8.003 0.6211 -22.8725 38.8786  False\n",
      "------------------------------------------------------------------\n",
      "\n",
      "\n",
      "\n",
      "Category Name: Amphibian\n",
      "             Multiple Comparison of Means - Tukey HSD, FWER=0.05              \n",
      "==============================================================================\n",
      "      group1             group2       meandiff p-adj   lower    upper   reject\n",
      "------------------------------------------------------------------------------\n",
      "        Endangered Species of Concern    91.75 0.0898  -9.2328 192.7328  False\n",
      "        Endangered         Threatened     34.5 0.8332 -76.1211 145.1211  False\n",
      "        Endangered            Unknown  105.161  0.016  14.2226 196.0993   True\n",
      "Species of Concern         Threatened   -57.25 0.2344 -135.471   20.971  False\n",
      "Species of Concern            Unknown   13.411 0.8661 -32.9707  59.7926  False\n",
      "        Threatened            Unknown   70.661 0.0262   5.9248 135.3971   True\n",
      "------------------------------------------------------------------------------\n",
      "\n",
      "\n",
      "\n",
      "Category Name: Reptile\n",
      "       Multiple Comparison of Means - Tukey HSD, FWER=0.05        \n",
      "==================================================================\n",
      "      group1        group2 meandiff p-adj   lower    upper  reject\n",
      "------------------------------------------------------------------\n",
      "Species of Concern Unknown  15.5716 0.3345 -16.1252 47.2685  False\n",
      "------------------------------------------------------------------\n",
      "\n",
      "\n",
      "\n",
      "Category Name: Fish\n",
      "              Multiple Comparison of Means - Tukey HSD, FWER=0.05              \n",
      "===============================================================================\n",
      "      group1             group2       meandiff p-adj    lower    upper   reject\n",
      "-------------------------------------------------------------------------------\n",
      "        Endangered Species of Concern  93.8958 0.0021   26.3843 161.4074   True\n",
      "        Endangered         Threatened  31.4167 0.6557  -40.7562 103.5895  False\n",
      "        Endangered            Unknown 106.1474  0.001   54.4634 157.8315   True\n",
      "Species of Concern         Threatened -62.4792 0.0813 -129.9907   5.0324  False\n",
      "Species of Concern            Unknown  12.2516 0.8909  -32.6942  57.1974  False\n",
      "        Threatened            Unknown  74.7308 0.0012   23.0467 126.4148   True\n",
      "-------------------------------------------------------------------------------\n",
      "\n",
      "\n",
      "\n"
     ]
    }
   ],
   "source": [
    "for i in range(len(df['category'].unique())):\n",
    "    print('Category Name: ' + df['category'].unique()[i])\n",
    "    tukey_test(df['category'].unique()[i])"
   ]
  },
  {
   "cell_type": "markdown",
   "metadata": {},
   "source": [
    "##### __Objective 5's Analysis Result:__\n",
    "<br>\n",
    "<font color = 'red'> By looking at the figure from 5.1 to 5.3. It seems like there is a significant difference between species and their conservation status. However, we need some scientific method to justify hypothesis rather than judging by intuitive.\n",
    "    <br><br>\n",
    "Since there are non-binary categorical variables ('Conservation status of each species)and quantitative variable('Observation number'), I decided to perform a Tukey test on all species and their conservation status with for-loop.\n",
    "<br><br>\n",
    "The Tukey test results show almost every species are a significant difference between species and its conservation status except 'Reptile'. The main reason is the limited data on the reptile category with only two conservation statuses."
   ]
  }
 ],
 "metadata": {
  "kernelspec": {
   "display_name": "Python 3",
   "language": "python",
   "name": "python3"
  },
  "language_info": {
   "codemirror_mode": {
    "name": "ipython",
    "version": 3
   },
   "file_extension": ".py",
   "mimetype": "text/x-python",
   "name": "python",
   "nbconvert_exporter": "python",
   "pygments_lexer": "ipython3",
   "version": "3.8.8"
  }
 },
 "nbformat": 4,
 "nbformat_minor": 4
}
